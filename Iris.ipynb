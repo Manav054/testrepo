{
  "nbformat": 4,
  "nbformat_minor": 0,
  "metadata": {
    "colab": {
      "provenance": [],
      "mount_file_id": "1bg9L2v71Co5qt7mXyq9dZwxgrjiXDv79",
      "authorship_tag": "ABX9TyPqlw9NDmLeIr6/ohdsnm/2",
      "include_colab_link": true
    },
    "kernelspec": {
      "name": "python3",
      "display_name": "Python 3"
    },
    "language_info": {
      "name": "python"
    },
    "accelerator": "GPU"
  },
  "cells": [
    {
      "cell_type": "markdown",
      "metadata": {
        "id": "view-in-github",
        "colab_type": "text"
      },
      "source": [
        "<a href=\"https://colab.research.google.com/github/Manav054/testrepo/blob/main/Iris.ipynb\" target=\"_parent\"><img src=\"https://colab.research.google.com/assets/colab-badge.svg\" alt=\"Open In Colab\"/></a>"
      ]
    },
    {
      "cell_type": "code",
      "source": [
        "from google.colab import files\n",
        "uploaded = files.upload()"
      ],
      "metadata": {
        "colab": {
          "base_uri": "https://localhost:8080/",
          "height": 74
        },
        "id": "dwCjbXuJ0seh",
        "outputId": "896caefb-7342-4d90-af4a-d92e0925b024"
      },
      "execution_count": 49,
      "outputs": [
        {
          "output_type": "display_data",
          "data": {
            "text/plain": [
              "<IPython.core.display.HTML object>"
            ],
            "text/html": [
              "\n",
              "     <input type=\"file\" id=\"files-40b4dcb4-11bf-4a7a-be52-d0f762314c93\" name=\"files[]\" multiple disabled\n",
              "        style=\"border:none\" />\n",
              "     <output id=\"result-40b4dcb4-11bf-4a7a-be52-d0f762314c93\">\n",
              "      Upload widget is only available when the cell has been executed in the\n",
              "      current browser session. Please rerun this cell to enable.\n",
              "      </output>\n",
              "      <script>// Copyright 2017 Google LLC\n",
              "//\n",
              "// Licensed under the Apache License, Version 2.0 (the \"License\");\n",
              "// you may not use this file except in compliance with the License.\n",
              "// You may obtain a copy of the License at\n",
              "//\n",
              "//      http://www.apache.org/licenses/LICENSE-2.0\n",
              "//\n",
              "// Unless required by applicable law or agreed to in writing, software\n",
              "// distributed under the License is distributed on an \"AS IS\" BASIS,\n",
              "// WITHOUT WARRANTIES OR CONDITIONS OF ANY KIND, either express or implied.\n",
              "// See the License for the specific language governing permissions and\n",
              "// limitations under the License.\n",
              "\n",
              "/**\n",
              " * @fileoverview Helpers for google.colab Python module.\n",
              " */\n",
              "(function(scope) {\n",
              "function span(text, styleAttributes = {}) {\n",
              "  const element = document.createElement('span');\n",
              "  element.textContent = text;\n",
              "  for (const key of Object.keys(styleAttributes)) {\n",
              "    element.style[key] = styleAttributes[key];\n",
              "  }\n",
              "  return element;\n",
              "}\n",
              "\n",
              "// Max number of bytes which will be uploaded at a time.\n",
              "const MAX_PAYLOAD_SIZE = 100 * 1024;\n",
              "\n",
              "function _uploadFiles(inputId, outputId) {\n",
              "  const steps = uploadFilesStep(inputId, outputId);\n",
              "  const outputElement = document.getElementById(outputId);\n",
              "  // Cache steps on the outputElement to make it available for the next call\n",
              "  // to uploadFilesContinue from Python.\n",
              "  outputElement.steps = steps;\n",
              "\n",
              "  return _uploadFilesContinue(outputId);\n",
              "}\n",
              "\n",
              "// This is roughly an async generator (not supported in the browser yet),\n",
              "// where there are multiple asynchronous steps and the Python side is going\n",
              "// to poll for completion of each step.\n",
              "// This uses a Promise to block the python side on completion of each step,\n",
              "// then passes the result of the previous step as the input to the next step.\n",
              "function _uploadFilesContinue(outputId) {\n",
              "  const outputElement = document.getElementById(outputId);\n",
              "  const steps = outputElement.steps;\n",
              "\n",
              "  const next = steps.next(outputElement.lastPromiseValue);\n",
              "  return Promise.resolve(next.value.promise).then((value) => {\n",
              "    // Cache the last promise value to make it available to the next\n",
              "    // step of the generator.\n",
              "    outputElement.lastPromiseValue = value;\n",
              "    return next.value.response;\n",
              "  });\n",
              "}\n",
              "\n",
              "/**\n",
              " * Generator function which is called between each async step of the upload\n",
              " * process.\n",
              " * @param {string} inputId Element ID of the input file picker element.\n",
              " * @param {string} outputId Element ID of the output display.\n",
              " * @return {!Iterable<!Object>} Iterable of next steps.\n",
              " */\n",
              "function* uploadFilesStep(inputId, outputId) {\n",
              "  const inputElement = document.getElementById(inputId);\n",
              "  inputElement.disabled = false;\n",
              "\n",
              "  const outputElement = document.getElementById(outputId);\n",
              "  outputElement.innerHTML = '';\n",
              "\n",
              "  const pickedPromise = new Promise((resolve) => {\n",
              "    inputElement.addEventListener('change', (e) => {\n",
              "      resolve(e.target.files);\n",
              "    });\n",
              "  });\n",
              "\n",
              "  const cancel = document.createElement('button');\n",
              "  inputElement.parentElement.appendChild(cancel);\n",
              "  cancel.textContent = 'Cancel upload';\n",
              "  const cancelPromise = new Promise((resolve) => {\n",
              "    cancel.onclick = () => {\n",
              "      resolve(null);\n",
              "    };\n",
              "  });\n",
              "\n",
              "  // Wait for the user to pick the files.\n",
              "  const files = yield {\n",
              "    promise: Promise.race([pickedPromise, cancelPromise]),\n",
              "    response: {\n",
              "      action: 'starting',\n",
              "    }\n",
              "  };\n",
              "\n",
              "  cancel.remove();\n",
              "\n",
              "  // Disable the input element since further picks are not allowed.\n",
              "  inputElement.disabled = true;\n",
              "\n",
              "  if (!files) {\n",
              "    return {\n",
              "      response: {\n",
              "        action: 'complete',\n",
              "      }\n",
              "    };\n",
              "  }\n",
              "\n",
              "  for (const file of files) {\n",
              "    const li = document.createElement('li');\n",
              "    li.append(span(file.name, {fontWeight: 'bold'}));\n",
              "    li.append(span(\n",
              "        `(${file.type || 'n/a'}) - ${file.size} bytes, ` +\n",
              "        `last modified: ${\n",
              "            file.lastModifiedDate ? file.lastModifiedDate.toLocaleDateString() :\n",
              "                                    'n/a'} - `));\n",
              "    const percent = span('0% done');\n",
              "    li.appendChild(percent);\n",
              "\n",
              "    outputElement.appendChild(li);\n",
              "\n",
              "    const fileDataPromise = new Promise((resolve) => {\n",
              "      const reader = new FileReader();\n",
              "      reader.onload = (e) => {\n",
              "        resolve(e.target.result);\n",
              "      };\n",
              "      reader.readAsArrayBuffer(file);\n",
              "    });\n",
              "    // Wait for the data to be ready.\n",
              "    let fileData = yield {\n",
              "      promise: fileDataPromise,\n",
              "      response: {\n",
              "        action: 'continue',\n",
              "      }\n",
              "    };\n",
              "\n",
              "    // Use a chunked sending to avoid message size limits. See b/62115660.\n",
              "    let position = 0;\n",
              "    do {\n",
              "      const length = Math.min(fileData.byteLength - position, MAX_PAYLOAD_SIZE);\n",
              "      const chunk = new Uint8Array(fileData, position, length);\n",
              "      position += length;\n",
              "\n",
              "      const base64 = btoa(String.fromCharCode.apply(null, chunk));\n",
              "      yield {\n",
              "        response: {\n",
              "          action: 'append',\n",
              "          file: file.name,\n",
              "          data: base64,\n",
              "        },\n",
              "      };\n",
              "\n",
              "      let percentDone = fileData.byteLength === 0 ?\n",
              "          100 :\n",
              "          Math.round((position / fileData.byteLength) * 100);\n",
              "      percent.textContent = `${percentDone}% done`;\n",
              "\n",
              "    } while (position < fileData.byteLength);\n",
              "  }\n",
              "\n",
              "  // All done.\n",
              "  yield {\n",
              "    response: {\n",
              "      action: 'complete',\n",
              "    }\n",
              "  };\n",
              "}\n",
              "\n",
              "scope.google = scope.google || {};\n",
              "scope.google.colab = scope.google.colab || {};\n",
              "scope.google.colab._files = {\n",
              "  _uploadFiles,\n",
              "  _uploadFilesContinue,\n",
              "};\n",
              "})(self);\n",
              "</script> "
            ]
          },
          "metadata": {}
        },
        {
          "output_type": "stream",
          "name": "stdout",
          "text": [
            "Saving Iris.csv to Iris.csv\n"
          ]
        }
      ]
    },
    {
      "cell_type": "code",
      "source": [
        "!pip install -q keras"
      ],
      "metadata": {
        "id": "VKjSfxS6S7uG"
      },
      "execution_count": 50,
      "outputs": []
    },
    {
      "cell_type": "code",
      "source": [
        "# Importing libraries :\n",
        "\n",
        "import numpy as np\n",
        "import matplotlib.pyplot as py\n",
        "import pandas as pd\n",
        "import matplotlib.pyplot as plt\n",
        "import io\n",
        "\n",
        "# Importing keras library and packages\n",
        "\n",
        "import keras\n",
        "from keras.models import Sequential\n",
        "from keras.layers import Dense\n",
        "from keras.layers import LeakyReLU, PReLU, ELU\n",
        "from keras.layers import Dropout"
      ],
      "metadata": {
        "id": "fyRGB5Fu1-WO"
      },
      "execution_count": 51,
      "outputs": []
    },
    {
      "cell_type": "code",
      "source": [
        "# Importing dataset :\n",
        "\n",
        "dataset = pd.read_csv(io.StringIO(uploaded['Iris.csv'].decode('utf-8')))\n",
        "X = dataset.iloc[:, :-1]\n",
        "y = dataset.iloc[:, 5]\n",
        "print(X)\n",
        "print(y)"
      ],
      "metadata": {
        "colab": {
          "base_uri": "https://localhost:8080/"
        },
        "id": "__85sqr-2ZhV",
        "outputId": "4cecc9eb-3d9b-40c1-f8d9-11358f4577a5"
      },
      "execution_count": 53,
      "outputs": [
        {
          "output_type": "stream",
          "name": "stdout",
          "text": [
            "      Id  SepalLengthCm  SepalWidthCm  PetalLengthCm  PetalWidthCm\n",
            "0      1            5.1           3.5            1.4           0.2\n",
            "1      2            4.9           3.0            1.4           0.2\n",
            "2      3            4.7           3.2            1.3           0.2\n",
            "3      4            4.6           3.1            1.5           0.2\n",
            "4      5            5.0           3.6            1.4           0.2\n",
            "..   ...            ...           ...            ...           ...\n",
            "145  146            6.7           3.0            5.2           2.3\n",
            "146  147            6.3           2.5            5.0           1.9\n",
            "147  148            6.5           3.0            5.2           2.0\n",
            "148  149            6.2           3.4            5.4           2.3\n",
            "149  150            5.9           3.0            5.1           1.8\n",
            "\n",
            "[150 rows x 5 columns]\n",
            "0         Iris-setosa\n",
            "1         Iris-setosa\n",
            "2         Iris-setosa\n",
            "3         Iris-setosa\n",
            "4         Iris-setosa\n",
            "            ...      \n",
            "145    Iris-virginica\n",
            "146    Iris-virginica\n",
            "147    Iris-virginica\n",
            "148    Iris-virginica\n",
            "149    Iris-virginica\n",
            "Name: Species, Length: 150, dtype: object\n"
          ]
        }
      ]
    },
    {
      "cell_type": "code",
      "source": [
        "# Dropping unnecessary columns\n",
        "\n",
        "X = X.drop(['Id'], axis = 1)\n",
        "print(X)"
      ],
      "metadata": {
        "colab": {
          "base_uri": "https://localhost:8080/"
        },
        "id": "hln6YsNz6O64",
        "outputId": "877609f6-1dfb-408e-a7a9-1bd51e266956"
      },
      "execution_count": 54,
      "outputs": [
        {
          "output_type": "stream",
          "name": "stdout",
          "text": [
            "     SepalLengthCm  SepalWidthCm  PetalLengthCm  PetalWidthCm\n",
            "0              5.1           3.5            1.4           0.2\n",
            "1              4.9           3.0            1.4           0.2\n",
            "2              4.7           3.2            1.3           0.2\n",
            "3              4.6           3.1            1.5           0.2\n",
            "4              5.0           3.6            1.4           0.2\n",
            "..             ...           ...            ...           ...\n",
            "145            6.7           3.0            5.2           2.3\n",
            "146            6.3           2.5            5.0           1.9\n",
            "147            6.5           3.0            5.2           2.0\n",
            "148            6.2           3.4            5.4           2.3\n",
            "149            5.9           3.0            5.1           1.8\n",
            "\n",
            "[150 rows x 4 columns]\n"
          ]
        }
      ]
    },
    {
      "cell_type": "code",
      "source": [
        "# Splitting the dataset into the Training set and The Testing set :\n",
        "\n",
        "from sklearn.preprocessing import LabelEncoder\n",
        "encoder = LabelEncoder()\n",
        "y1 = encoder.fit_transform(y)\n",
        "Y = pd.get_dummies(y1).values\n",
        "\n",
        "from sklearn.model_selection import train_test_split\n",
        "xtrain, xtest, ytrain, ytest = train_test_split(X, Y, test_size = 0.2, random_state = 0)"
      ],
      "metadata": {
        "id": "0Tjr22qP5YBv"
      },
      "execution_count": 59,
      "outputs": []
    },
    {
      "cell_type": "code",
      "source": [
        "# Initialising the ANN\n",
        "\n",
        "classifier = Sequential()\n",
        "\n",
        "# Adding the input layer and the first and only hidden layer\n",
        "classifier.add(Dense(units = 4, input_shape =(4,), activation = 'relu'))\n",
        "\n",
        "# Adding the output layer\n",
        "classifier.add(Dense(units = 3, activation = 'softmax'))"
      ],
      "metadata": {
        "id": "PaYt3Itq8EkL"
      },
      "execution_count": 60,
      "outputs": []
    },
    {
      "cell_type": "code",
      "source": [
        "# compiling the ANN\n",
        "\n",
        "classifier.compile(optimizer = 'adam', loss = 'categorical_crossentropy', metrics = ['accuracy'])\n",
        "\n",
        "# fitting the ANN to the Training set\n",
        "\n",
        "model_history = classifier.fit(xtrain, ytrain , batch_size = 1, validation_split = 0.1, epochs = 21)"
      ],
      "metadata": {
        "colab": {
          "base_uri": "https://localhost:8080/"
        },
        "id": "wXZExDjQ_s-Z",
        "outputId": "098b505e-212d-4523-b117-82764b7aba4d"
      },
      "execution_count": 67,
      "outputs": [
        {
          "output_type": "stream",
          "name": "stdout",
          "text": [
            "Epoch 1/21\n",
            "108/108 [==============================] - 1s 4ms/step - loss: 0.0736 - accuracy: 0.9815 - val_loss: 0.0999 - val_accuracy: 0.9167\n",
            "Epoch 2/21\n",
            "108/108 [==============================] - 0s 3ms/step - loss: 0.0726 - accuracy: 0.9722 - val_loss: 0.1227 - val_accuracy: 0.9167\n",
            "Epoch 3/21\n",
            "108/108 [==============================] - 0s 2ms/step - loss: 0.0748 - accuracy: 0.9722 - val_loss: 0.0851 - val_accuracy: 0.9167\n",
            "Epoch 4/21\n",
            "108/108 [==============================] - 0s 2ms/step - loss: 0.0691 - accuracy: 0.9815 - val_loss: 0.1214 - val_accuracy: 0.9167\n",
            "Epoch 5/21\n",
            "108/108 [==============================] - 0s 3ms/step - loss: 0.0708 - accuracy: 0.9815 - val_loss: 0.1257 - val_accuracy: 0.9167\n",
            "Epoch 6/21\n",
            "108/108 [==============================] - 0s 3ms/step - loss: 0.0756 - accuracy: 0.9630 - val_loss: 0.1011 - val_accuracy: 0.9167\n",
            "Epoch 7/21\n",
            "108/108 [==============================] - 0s 3ms/step - loss: 0.0748 - accuracy: 0.9630 - val_loss: 0.1454 - val_accuracy: 0.9167\n",
            "Epoch 8/21\n",
            "108/108 [==============================] - 0s 2ms/step - loss: 0.0756 - accuracy: 0.9630 - val_loss: 0.1129 - val_accuracy: 0.9167\n",
            "Epoch 9/21\n",
            "108/108 [==============================] - 0s 3ms/step - loss: 0.0691 - accuracy: 0.9722 - val_loss: 0.0841 - val_accuracy: 0.9167\n",
            "Epoch 10/21\n",
            "108/108 [==============================] - 0s 3ms/step - loss: 0.0698 - accuracy: 0.9815 - val_loss: 0.1601 - val_accuracy: 0.9167\n",
            "Epoch 11/21\n",
            "108/108 [==============================] - 0s 3ms/step - loss: 0.0718 - accuracy: 0.9630 - val_loss: 0.0980 - val_accuracy: 0.9167\n",
            "Epoch 12/21\n",
            "108/108 [==============================] - 0s 3ms/step - loss: 0.0768 - accuracy: 0.9815 - val_loss: 0.1014 - val_accuracy: 0.9167\n",
            "Epoch 13/21\n",
            "108/108 [==============================] - 0s 3ms/step - loss: 0.0729 - accuracy: 0.9630 - val_loss: 0.0834 - val_accuracy: 0.9167\n",
            "Epoch 14/21\n",
            "108/108 [==============================] - 0s 3ms/step - loss: 0.0702 - accuracy: 0.9722 - val_loss: 0.1134 - val_accuracy: 0.9167\n",
            "Epoch 15/21\n",
            "108/108 [==============================] - 0s 3ms/step - loss: 0.0760 - accuracy: 0.9722 - val_loss: 0.1223 - val_accuracy: 0.9167\n",
            "Epoch 16/21\n",
            "108/108 [==============================] - 0s 3ms/step - loss: 0.0726 - accuracy: 0.9630 - val_loss: 0.0738 - val_accuracy: 0.9167\n",
            "Epoch 17/21\n",
            "108/108 [==============================] - 0s 3ms/step - loss: 0.0702 - accuracy: 0.9815 - val_loss: 0.0897 - val_accuracy: 0.9167\n",
            "Epoch 18/21\n",
            "108/108 [==============================] - 0s 2ms/step - loss: 0.0728 - accuracy: 0.9722 - val_loss: 0.1244 - val_accuracy: 0.9167\n",
            "Epoch 19/21\n",
            "108/108 [==============================] - 0s 3ms/step - loss: 0.0807 - accuracy: 0.9630 - val_loss: 0.0913 - val_accuracy: 0.9167\n",
            "Epoch 20/21\n",
            "108/108 [==============================] - 0s 3ms/step - loss: 0.0729 - accuracy: 0.9815 - val_loss: 0.0736 - val_accuracy: 0.9167\n",
            "Epoch 21/21\n",
            "108/108 [==============================] - 0s 3ms/step - loss: 0.0680 - accuracy: 0.9722 - val_loss: 0.1254 - val_accuracy: 0.9167\n"
          ]
        }
      ]
    },
    {
      "cell_type": "code",
      "source": [
        "# listing all data in history\n",
        "\n",
        "print(model_history.history.keys())\n",
        "\n",
        "# summarizing history for accuracy\n",
        "\n",
        "plt.plot(model_history.history['loss'])\n",
        "plt.title('Loss function vs Epoch')\n",
        "plt.ylabel('Loss')\n",
        "plt.xlabel('Epoch')\n",
        "plt.legend(['loss'], loc='upper right')\n",
        "plt.show()\n",
        "\n",
        "train_loss = model_history.history['loss']\n",
        "test_loss = model_history.history['val_loss']\n",
        "plt.plot(train_loss, test_loss)\n",
        "plt.title('train loss vs test loss')\n",
        "plt.ylabel('Train Loss')\n",
        "plt.xlabel('Test Loss')\n",
        "plt.show()\n",
        "\n",
        "print(\"Train Accurary : \", max(model_history.history['accuracy']))\n",
        "print(\"Test Accuracy : \", max(model_history.history['val_accuracy']))"
      ],
      "metadata": {
        "colab": {
          "base_uri": "https://localhost:8080/",
          "height": 625
        },
        "id": "3J3ppg9_DIvF",
        "outputId": "354092cf-1c96-4c54-a6cb-5bf8213ebb7f"
      },
      "execution_count": 84,
      "outputs": [
        {
          "output_type": "stream",
          "name": "stdout",
          "text": [
            "dict_keys(['loss', 'accuracy', 'val_loss', 'val_accuracy'])\n"
          ]
        },
        {
          "output_type": "display_data",
          "data": {
            "text/plain": [
              "<Figure size 432x288 with 1 Axes>"
            ],
            "image/png": "[encoded data removed]"
          },
          "metadata": {
            "needs_background": "light"
          }
        },
        {
          "output_type": "display_data",
          "data": {
            "text/plain": [
              "<Figure size 432x288 with 1 Axes>"
            ],
            "image/png": "[encoded data removed]"
          },
          "metadata": {
            "needs_background": "light"
          }
        },
        {
          "output_type": "stream",
          "name": "stdout",
          "text": [
            "Train Accurary :  0.9814814925193787\n",
            "Test Accuracy :  0.9166666865348816\n"
          ]
        }
      ]
    },
    {
      "cell_type": "code",
      "source": [
        "# making the predictions and evaluating the model\n",
        "\n",
        "# Predicting test set results\n",
        "ypred = classifier.predict(xtest)\n",
        "y_test_class = np.argmax(ytest, axis = 1)\n",
        "y_pred_class = np.argmax(ypred, axis = 1)\n",
        "\n",
        "# making the confusion matrix\n",
        "\n",
        "from sklearn.metrics import confusion_matrix, classification_report\n",
        "cm = confusion_matrix(y_test_class,y_pred_class)\n",
        "print(cm)\n",
        "cr = classification_report(y_test_class, y_pred_class)\n",
        "print(cr)\n",
        "\n",
        "predicted = encoder.inverse_transform(y_pred_class)\n",
        "print(\"Final parameter values :\")\n",
        "print(predicted)"
      ],
      "metadata": {
        "colab": {
          "base_uri": "https://localhost:8080/"
        },
        "id": "DSlr_9lODKsi",
        "outputId": "b1f30b79-4cc9-4d14-ca65-553d075144f6"
      },
      "execution_count": 79,
      "outputs": [
        {
          "output_type": "stream",
          "name": "stdout",
          "text": [
            "[[11  0  0]\n",
            " [ 0 13  0]\n",
            " [ 0  0  6]]\n",
            "              precision    recall  f1-score   support\n",
            "\n",
            "           0       1.00      1.00      1.00        11\n",
            "           1       1.00      1.00      1.00        13\n",
            "           2       1.00      1.00      1.00         6\n",
            "\n",
            "    accuracy                           1.00        30\n",
            "   macro avg       1.00      1.00      1.00        30\n",
            "weighted avg       1.00      1.00      1.00        30\n",
            "\n",
            "Final parameter values :\n",
            "['Iris-virginica' 'Iris-versicolor' 'Iris-setosa' 'Iris-virginica'\n",
            " 'Iris-setosa' 'Iris-virginica' 'Iris-setosa' 'Iris-versicolor'\n",
            " 'Iris-versicolor' 'Iris-versicolor' 'Iris-virginica' 'Iris-versicolor'\n",
            " 'Iris-versicolor' 'Iris-versicolor' 'Iris-versicolor' 'Iris-setosa'\n",
            " 'Iris-versicolor' 'Iris-versicolor' 'Iris-setosa' 'Iris-setosa'\n",
            " 'Iris-virginica' 'Iris-versicolor' 'Iris-setosa' 'Iris-setosa'\n",
            " 'Iris-virginica' 'Iris-setosa' 'Iris-setosa' 'Iris-versicolor'\n",
            " 'Iris-versicolor' 'Iris-setosa']\n"
          ]
        }
      ]
    }
  ]
}